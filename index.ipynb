{
 "cells": [
  {
   "cell_type": "raw",
   "id": "0",
   "metadata": {
    "vscode": {
     "languageId": "raw"
    }
   },
   "source": [
    "---\n",
    "repo: 968878810\n",
    "machine: basicLinux32gb\n",
    "region: UsWest\n",
    "format:\n",
    "  html: default\n",
    "  ipynb:\n",
    "    output-file: guide_stac_mspc_landsat\n",
    "---"
   ]
  },
  {
   "cell_type": "markdown",
   "id": "1",
   "metadata": {},
   "source": [
    "::: callout-tip\n",
    "## How to run this tutorial\n",
    "In order to run the code in this tutorial, you can either download the notebook to run it on your local computer, or click the button below to run the tutorial in a GitHub Codespace.\n",
    "\n",
    "[![](https://github.com/codespaces/badge.svg)](https://github.com/codespaces/new?hide_repo_select=true&skip_quickstart=true&ref=main&repo={{< meta repo >}}&geo={{< meta region >}}&machine={{< meta machine >}})\n",
    ":::"
   ]
  },
  {
   "cell_type": "markdown",
   "id": "2",
   "metadata": {
    "id": "23374c2d-0b01-496c-8171-3abf13dc77d4"
   },
   "source": [
    "## Reading Data from the STAC API\n",
    "\n",
    "The Planetary Computer catalogs the datasets we host using the [STAC](http://stacspec.org/) (SpatioTemporal Asset Catalog) specification. We provide a [STAC API](https://github.com/radiantearth/stac-api-spec) endpoint that can be used to search our datasets by space, time, and more. This quickstart will show you how to search for data using our STAC API and open-source Python libraries. For more on how to use our STAC API from R, see [Reading data from the STAC API with R](https://planetarycomputer.microsoft.com/docs/quickstarts/reading-stac-r/).\n",
    "\n",
    "First we'll use pystac-client to open up our STAC API:"
   ]
  },
  {
   "cell_type": "code",
   "execution_count": null,
   "id": "3",
   "metadata": {
    "id": "fda5e533-84b8-4051-9198-2df74338ae71"
   },
   "outputs": [],
   "source": [
    "from pystac_client import Client\n",
    "\n",
    "catalog = Client.open(\"https://planetarycomputer.microsoft.com/api/stac/v1\")"
   ]
  },
  {
   "cell_type": "markdown",
   "id": "4",
   "metadata": {
    "id": "b1f7ef57-45db-49ef-9065-4515157d23fb"
   },
   "source": [
    "### Searching\n",
    "\n",
    "We can use the STAC API to search for assets meeting some criteria. This might include the date and time the asset covers, is spatial extent, or any other property captured in the STAC item's metadata.\n",
    "\n",
    "In this example we'll search for imagery from [Landsat Collection 2 Level-2](https://planetarycomputer.microsoft.com/dataset/landsat-c2-l2) area around Microsoft's main campus in December of 2020."
   ]
  },
  {
   "cell_type": "code",
   "execution_count": null,
   "id": "5",
   "metadata": {
    "id": "2ec73f94-3989-49cf-920a-fde66c7946b8",
    "outputId": "2145590e-5c69-48a7-d4cc-6dad34e326e7"
   },
   "outputs": [],
   "source": [
    "time_range = \"2020-12-01/2020-12-31\"\n",
    "bbox = [-122.2751, 47.5469, -121.9613, 47.7458]\n",
    "\n",
    "search = catalog.search(collections=[\"landsat-8-c2-l2\"], bbox=bbox, datetime=time_range)\n",
    "items = search.get_all_items()\n",
    "len(items)"
   ]
  },
  {
   "cell_type": "markdown",
   "id": "6",
   "metadata": {
    "id": "84143827-ff63-4946-a995-ebc101f18d52"
   },
   "source": [
    "In that example our spatial query used a bounding box with a `bbox`. Alternatively, you can pass a GeoJSON object as `intersects`\n",
    "\n",
    "```python\n",
    "area_of_interest = {\n",
    "    \"type\": \"Polygon\",\n",
    "    \"coordinates\": [\n",
    "        [\n",
    "            [-122.2751, 47.5469],\n",
    "            [-121.9613, 47.9613],\n",
    "            [-121.9613, 47.9613],\n",
    "            [-122.2751, 47.9613],\n",
    "            [-122.2751, 47.5469],\n",
    "        ]\n",
    "    ],\n",
    "}\n",
    "\n",
    "time_range = \"2020-12-01/2020-12-31\"\n",
    "\n",
    "search = catalog.search(\n",
    "    collections=[\"landsat-8-c2-l2\"], intersects=area_of_interest, datetime=time_range\n",
    ")\n",
    "```"
   ]
  },
  {
   "cell_type": "markdown",
   "id": "7",
   "metadata": {
    "id": "aedaf9f7-1ba2-472d-85e1-5838e7df9ffb"
   },
   "source": [
    "`items` is a [`pystac.ItemCollection`](https://pystac.readthedocs.io/en/stable/api/item_collection.html#pystac-item-collection). We can see that 4 items matched our search criteria."
   ]
  },
  {
   "cell_type": "code",
   "execution_count": null,
   "id": "8",
   "metadata": {
    "id": "c62e1ca1-0be3-45a6-bb8a-5fd048a5478c",
    "outputId": "ef6b7348-9b30-429d-90bd-2f6ad3ecf613"
   },
   "outputs": [],
   "source": [
    "len(items)"
   ]
  },
  {
   "cell_type": "markdown",
   "id": "9",
   "metadata": {
    "id": "6b36c181-a163-4e40-9ad0-3accacc82010"
   },
   "source": [
    "Each [`pystac.Item`](https://pystac.readthedocs.io/en/stable/api/pystac.html#pystac.Item) in this `ItemCollection` includes all the metadata for that scene. [STAC Items](https://github.com/radiantearth/stac-spec/blob/master/item-spec/item-spec.md) are GeoJSON features, and so can be loaded by libraries like [geopandas](http://geopandas.readthedocs.io/)."
   ]
  },
  {
   "cell_type": "code",
   "execution_count": null,
   "id": "10",
   "metadata": {
    "id": "b95c28ed-0ab1-4d4c-aa0f-a0382f694238",
    "outputId": "e1ea3e84-6110-45a3-df0e-686ff2415877"
   },
   "outputs": [],
   "source": [
    "import geopandas\n",
    "\n",
    "df = geopandas.GeoDataFrame.from_features(items.to_dict(), crs=\"epsg:4326\")\n",
    "df"
   ]
  },
  {
   "cell_type": "markdown",
   "id": "11",
   "metadata": {
    "id": "e88bc7eb-fd2f-48b1-a3d7-dc96d8b7635c"
   },
   "source": [
    "We can use the `eo` extension to sort the items by cloudiness. We'll grab an item with low cloudiness:"
   ]
  },
  {
   "cell_type": "code",
   "execution_count": null,
   "id": "12",
   "metadata": {
    "id": "c60accc9-4126-4609-8a65-406719b5485b",
    "outputId": "40e48370-85dc-4062-b603-a968c6896d71"
   },
   "outputs": [],
   "source": [
    "selected_item = min(items, key=lambda item: item.properties[\"eo:cloud_cover\"])\n",
    "selected_item"
   ]
  },
  {
   "cell_type": "markdown",
   "id": "13",
   "metadata": {
    "id": "9be696c5-c9b9-4dcb-a876-a645d384fa83"
   },
   "source": [
    "Each STAC item has one or more [Assets](https://github.com/radiantearth/stac-spec/blob/master/item-spec/item-spec.md#asset-object), which include links to the actual files."
   ]
  },
  {
   "cell_type": "code",
   "execution_count": null,
   "id": "14",
   "metadata": {
    "id": "f507b45d-5985-4f10-9850-c1b3947c9908",
    "outputId": "9d0685a6-26bf-4302-829e-ab458d24814e"
   },
   "outputs": [],
   "source": [
    "import rich.table\n",
    "\n",
    "table = rich.table.Table(\"Asset Key\", \"Descripiption\")\n",
    "for asset_key, asset in selected_item.assets.items():\n",
    "    # print(f\"{asset_key:<25} - {asset.title}\")\n",
    "    table.add_row(asset_key, asset.title)\n",
    "\n",
    "table"
   ]
  },
  {
   "cell_type": "markdown",
   "id": "15",
   "metadata": {
    "id": "fe4053e4-6c1e-46b7-947d-79811a2877e4"
   },
   "source": [
    "Here, we'll inspect the `thumbnail` asset."
   ]
  },
  {
   "cell_type": "code",
   "execution_count": null,
   "id": "16",
   "metadata": {
    "id": "f175aa10-8f97-4ea3-8fda-c6fe4469baea",
    "outputId": "e25f9c88-8901-45bf-8ef6-6f7064253e73"
   },
   "outputs": [],
   "source": [
    "selected_item.assets[\"thumbnail\"].to_dict()"
   ]
  },
  {
   "cell_type": "code",
   "execution_count": null,
   "id": "17",
   "metadata": {
    "id": "50535606-4891-40d4-9e52-7d0056583681",
    "outputId": "d11c6234-1c07-47d3-8919-ab14052eb5c5"
   },
   "outputs": [],
   "source": [
    "from IPython.display import Image\n",
    "\n",
    "Image(url=selected_item.assets[\"thumbnail\"].href, width=500)"
   ]
  },
  {
   "cell_type": "markdown",
   "id": "18",
   "metadata": {
    "id": "5abf7884-00c5-49fd-b27f-a57a23c00af5"
   },
   "source": [
    "That `rendered_preview` asset is generated dynamically from the raw data using the Planetary Computer's [data API](http://planetarycomputer.microsoft.com/api/data/v1/). We can access the raw data, stored as Cloud Optimzied GeoTIFFs in Azure Blob Storage, using one of the other assets. That said, we do need to do one more thing before accessing the data. If we simply made a request to the file in blob storage we'd get a 404:"
   ]
  },
  {
   "cell_type": "code",
   "execution_count": null,
   "id": "19",
   "metadata": {
    "id": "aefcb71d-31ba-4211-b7a5-7966c13304ef",
    "outputId": "bcf2942c-4512-4f9d-8157-5306540d51f5"
   },
   "outputs": [],
   "source": [
    "import requests\n",
    "\n",
    "url = selected_item.assets[\"SR_B2\"].href\n",
    "print(\"Accessing\", url)\n",
    "response = requests.get(url)\n",
    "response"
   ]
  },
  {
   "cell_type": "markdown",
   "id": "20",
   "metadata": {
    "id": "65686af5-414e-4482-af27-fb680b179930"
   },
   "source": [
    "That's because the Plantary Computer uses Azure Blob Storage [SAS Tokens](https://docs.microsoft.com/en-us/azure/storage/common/storage-sas-overview#how-a-shared-access-signature-works) to enable access to our data, which allows us to provide the data for free to anyone, anywhere while maintaining some control over the amount of egress for datasets.\n",
    "\n",
    "To get a token for access, you can use the Planetary Computer's [Data Authentication API](). You can access that anonymously, or you can provide an API Key for higher rate limits and longer-lived tokens.\n",
    "\n",
    "You can also use the [planetary-computer](https://github.com/microsoft/planetary-computer-sdk-for-python) package to generate tokens and sign asset HREFs for access. You can install via pip with\n",
    "\n",
    "```\n",
    "> pip install planetary-computer\n",
    "```"
   ]
  },
  {
   "cell_type": "code",
   "execution_count": null,
   "id": "21",
   "metadata": {
    "id": "08f7fdcb-8d15-45a7-be8d-2e4d45cf96b1"
   },
   "outputs": [],
   "source": [
    "import planetary_computer\n",
    "\n",
    "# PC_SDK_SUBSCRIPTION_KEY\n",
    "signed_href = planetary_computer.sign(selected_item).assets[\"SR_B2\"].href"
   ]
  },
  {
   "cell_type": "markdown",
   "id": "22",
   "metadata": {
    "id": "29feea6d-400d-4573-82ba-835918adb701"
   },
   "source": [
    "We can load up that single COG using libraries like [rioxarray](https://corteva.github.io/rioxarray/html/rioxarray.html) or [rasterio](https://rasterio.readthedocs.io/en/latest/)"
   ]
  },
  {
   "cell_type": "code",
   "execution_count": null,
   "id": "23",
   "metadata": {
    "id": "58481f78-40b5-486d-bf36-ab333206bdb4",
    "outputId": "3ee84b3f-e1e6-4442-d528-b62f17d384e3"
   },
   "outputs": [],
   "source": [
    "# import xarray as xr\n",
    "import rioxarray\n",
    "\n",
    "ds = rioxarray.open_rasterio(signed_href, overview_level=4).squeeze()\n",
    "img = ds.plot(cmap=\"Blues\", add_colorbar=False)\n",
    "img.axes.set_axis_off();"
   ]
  },
  {
   "cell_type": "markdown",
   "id": "24",
   "metadata": {
    "id": "d3c08641-fbb6-425f-a3ca-975ca1d425a4"
   },
   "source": [
    "If you wish to work with multiple STAC items as a datacube, you can use libraries like [stackstac](https://stackstac.readthedocs.io/) or [odc-stac](https://odc-stac.readthedocs.io/en/latest/index.html)."
   ]
  },
  {
   "cell_type": "code",
   "execution_count": null,
   "id": "25",
   "metadata": {
    "id": "d4a749a5-4a05-405b-8c81-9c10317c9e33",
    "outputId": "2c8f2a0f-f7e1-4c86-be4b-fd1459c17fce"
   },
   "outputs": [],
   "source": [
    "import stackstac\n",
    "\n",
    "ds = stackstac.stack(\n",
    "  planetary_computer.sign(items),\n",
    "  epsg=4326\n",
    ")\n",
    "ds"
   ]
  },
  {
   "cell_type": "markdown",
   "id": "26",
   "metadata": {
    "id": "fc96240e-edb9-4e6d-9c70-645d91813a7f"
   },
   "source": [
    "### Searching on additional properties\n",
    "\n",
    "Previously, we searched for items by space and time. Because the Planetary Computer's STAC API supports the [query](https://github.com/radiantearth/stac-api-spec/blob/master/fragments/query/README.md) parameter, you can search on additional properties on the STAC item.\n",
    "\n",
    "For example, collections like `sentinel-2-l2a` and `landsat-8-c2-l2` both implement the [`eo` STAC extension](https://github.com/stac-extensions/eo) and include an `eo:cloud_cover` property. Use `query={\"eo:cloud_cover\": {\"lt\": 20}}` to return only items that are less than 20% cloudy."
   ]
  },
  {
   "cell_type": "code",
   "execution_count": null,
   "id": "27",
   "metadata": {
    "id": "18c2f286-654a-479a-9ae0-0f819250b575"
   },
   "outputs": [],
   "source": [
    "time_range = \"2020-12-01/2020-12-31\"\n",
    "bbox = [-122.2751, 47.5469, -121.9613, 47.7458]\n",
    "\n",
    "search = catalog.search(\n",
    "    collections=[\"sentinel-2-l2a\"],\n",
    "    bbox=bbox,\n",
    "    datetime=time_range,\n",
    "    query={\"eo:cloud_cover\": {\"lt\": 20}},\n",
    ")\n",
    "items = search.get_all_items()"
   ]
  },
  {
   "cell_type": "markdown",
   "id": "28",
   "metadata": {
    "id": "fda18a4d-7421-420b-a918-c45ce43833a9"
   },
   "source": [
    "Other common uses of the `query` parameter is to filter a collection down to items of a specific type, For example, the [GOES-CMI](https://planetarycomputer.microsoft.com/dataset/goes-cmi) collection includes images from various when the satellite is in various modes, which produces images of either the Full Disk of the earth, the continental United States, or a mesoscale. You can use `goes:image-type` to filter down to just the ones you want."
   ]
  },
  {
   "cell_type": "code",
   "execution_count": null,
   "id": "29",
   "metadata": {
    "id": "d2db005e-9732-43e2-89c1-3133a6fda2d1"
   },
   "outputs": [],
   "source": [
    "search = catalog.search(\n",
    "    collections=[\"goes-cmi\"],\n",
    "    bbox=[-67.2729, 25.6000, -61.7999, 27.5423],\n",
    "    datetime=[\"2018-09-11T13:00:00Z\", \"2018-09-11T15:40:00Z\"],\n",
    "    query={\"goes:image-type\": {\"eq\": \"MESOSCALE\"}},\n",
    ")"
   ]
  },
  {
   "cell_type": "markdown",
   "id": "30",
   "metadata": {
    "id": "10cb5d51-7d01-4d8b-ad14-1c3df6cea258"
   },
   "source": [
    "### Analyzing STAC Metadata\n",
    "\n",
    "STAC items are proper GeoJSON Features, and so can be treated as a kind of data on their own."
   ]
  },
  {
   "cell_type": "code",
   "execution_count": null,
   "id": "31",
   "metadata": {
    "id": "0283b780-d1c8-4715-bcc0-0e533110020f",
    "outputId": "db8a2006-8183-4432-9fb2-2a6ecd8d8eba",
    "tags": []
   },
   "outputs": [],
   "source": [
    "search = catalog.search(\n",
    "    collections=[\"sentinel-2-l2a\"],\n",
    "    bbox=[-124.2751, 45.5469, -110.9613, 47.7458],\n",
    "    datetime=\"2020-12-26/2020-12-31\",\n",
    ")\n",
    "items = search.get_all_items()\n",
    "\n",
    "df = geopandas.GeoDataFrame.from_features(items.to_dict(), crs=\"epsg:4326\")\n",
    "\n",
    "df[[\"geometry\", \"datetime\", \"s2:mgrs_tile\", \"eo:cloud_cover\"]].explore(\n",
    "    column=\"eo:cloud_cover\", style_kwds={\"fillOpacity\": 0.1}\n",
    ")"
   ]
  },
  {
   "cell_type": "markdown",
   "id": "32",
   "metadata": {
    "id": "debaa186-f987-49c0-a476-98835207fd1f"
   },
   "source": [
    "Or we can plot cloudiness of a region over time."
   ]
  },
  {
   "cell_type": "code",
   "execution_count": null,
   "id": "33",
   "metadata": {
    "id": "c27178d2-bc51-4097-a5d7-b2e438f61e9e"
   },
   "outputs": [],
   "source": [
    "import pandas as pd\n",
    "\n",
    "search = catalog.search(\n",
    "    collections=[\"sentinel-2-l2a\"],\n",
    "    bbox=[-124.2751, 45.5469, -123.9613, 45.7458],\n",
    "    datetime=\"2020-01-01/2020-12-31\",\n",
    ")\n",
    "items = search.get_all_items()\n",
    "df = geopandas.GeoDataFrame.from_features(items.to_dict())\n",
    "df[\"datetime\"] = pd.to_datetime(df[\"datetime\"])"
   ]
  },
  {
   "cell_type": "code",
   "execution_count": null,
   "id": "34",
   "metadata": {
    "id": "07a7e2be-cf30-4cfe-812d-83ab8b436dfe",
    "outputId": "daf0ab97-3f8e-4f87-9739-e01233da529f"
   },
   "outputs": [],
   "source": [
    "ts = df.set_index(\"datetime\").sort_index()[\"eo:cloud_cover\"].rolling(7).mean()\n",
    "ts.plot(title=\"eo:cloud-cover (7-scene rolling average)\");"
   ]
  },
  {
   "cell_type": "markdown",
   "id": "35",
   "metadata": {
    "id": "13669344-a6c2-4684-ba78-69b7907e37e1"
   },
   "source": [
    "### Working with STAC Catalogs and Collections\n",
    "\n",
    "Our `catalog` is a [STAC Catalog](https://github.com/radiantearth/stac-spec/blob/master/catalog-spec/catalog-spec.md) that we can crawl or search. The Catalog contains [STAC Collections](https://github.com/radiantearth/stac-spec/blob/master/collection-spec/collection-spec.md) for each dataset we have indexed (which is not the yet the entirity of data hosted by the Planetary Computer).\n",
    "\n",
    "Collections have information about the [STAC Items](https://github.com/radiantearth/stac-spec/blob/master/item-spec/item-spec.md) they contain. For instance, here we look at the [Bands](https://github.com/stac-extensions/eo#band-object) available for [Landsat Collection 2 Level 2](https://planetarycomputer.microsoft.com/dataset/landsat-c2-l2) data:"
   ]
  },
  {
   "cell_type": "code",
   "execution_count": null,
   "id": "36",
   "metadata": {
    "id": "8da11d26-3658-4b9e-b790-f84a2aded3e8",
    "outputId": "8d9437ba-0003-47ac-dfbc-65596e7f0780"
   },
   "outputs": [],
   "source": [
    "import pandas as pd\n",
    "\n",
    "landsat = catalog.get_collection(\"landsat-c2-l2\")\n",
    "\n",
    "bands = [k for k,v in landsat.extra_fields['item_assets'].items() if 'data' in v['roles']]\n",
    "pd.DataFrame(bands)"
   ]
  },
  {
   "cell_type": "markdown",
   "id": "37",
   "metadata": {
    "id": "4ae651c0"
   },
   "source": [
    "We can see what [Assets](https://github.com/radiantearth/stac-spec/blob/master/item-spec/item-spec.md#asset-object) are available on our item with:"
   ]
  },
  {
   "cell_type": "code",
   "execution_count": null,
   "id": "38",
   "metadata": {
    "id": "4bb2b985-f18d-4161-9331-b4b259814f34",
    "outputId": "8a0cc965-0cbd-450a-a716-3079a4d9b807"
   },
   "outputs": [],
   "source": [
    "pd.DataFrame.from_dict(landsat.extra_fields[\"item_assets\"], orient=\"index\")[\n",
    "    [\"title\", \"description\", \"gsd\"]\n",
    "]"
   ]
  },
  {
   "cell_type": "markdown",
   "id": "39",
   "metadata": {
    "id": "d951c06c-8d3a-47e7-8067-47fe4e9d4ccf"
   },
   "source": [
    "Some collections, like [Daymet](https://planetarycomputer.microsoft.com/dataset/daymet-daily-na) include collection-level assets. You can use the `.assets` property to access those assets."
   ]
  },
  {
   "cell_type": "code",
   "execution_count": null,
   "id": "40",
   "metadata": {
    "id": "c2ffb4ee-2714-4bf0-8445-5d90fcc2520c",
    "outputId": "199cdcaa-fb4a-40cc-bf5d-b8a73aa94a7a"
   },
   "outputs": [],
   "source": [
    "collection = catalog.get_collection(\"daymet-daily-na\")\n",
    "collection"
   ]
  },
  {
   "cell_type": "markdown",
   "id": "41",
   "metadata": {
    "id": "520e7e3f-b189-4ce3-b5f1-11211e474d1b"
   },
   "source": [
    "Just like assets on items, these assets include links to data in Azure Blob Storage."
   ]
  },
  {
   "cell_type": "code",
   "execution_count": null,
   "id": "42",
   "metadata": {
    "id": "08b95491-3994-4cc5-8b24-ba113874835f",
    "outputId": "3b2c42a4-2e09-4a71-d174-73a4a297c373"
   },
   "outputs": [],
   "source": [
    "asset = collection.assets[\"zarr-https\"]\n",
    "asset"
   ]
  },
  {
   "cell_type": "code",
   "execution_count": null,
   "id": "43",
   "metadata": {
    "id": "58b7f436-d739-40d8-93bc-631a2295709a",
    "outputId": "db6fe215-273d-4a61-f6f2-df25e76aea25"
   },
   "outputs": [],
   "source": [
    "import fsspec\n",
    "import xarray as xr\n",
    "\n",
    "store = fsspec.get_mapper(asset.href)\n",
    "ds = xr.open_zarr(store, **asset.extra_fields[\"xarray:open_kwargs\"])\n",
    "ds"
   ]
  }
 ],
 "metadata": {
  "colab": {
   "provenance": []
  },
  "kernelspec": {
   "display_name": "default",
   "language": "python",
   "name": "python3"
  },
  "language_info": {
   "codemirror_mode": {
    "name": "ipython",
    "version": 3
   },
   "file_extension": ".py",
   "mimetype": "text/x-python",
   "name": "python",
   "nbconvert_exporter": "python",
   "pygments_lexer": "ipython3",
   "version": "3.12.0"
  }
 },
 "nbformat": 4,
 "nbformat_minor": 5
}
